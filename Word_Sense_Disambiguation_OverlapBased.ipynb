{
  "nbformat": 4,
  "nbformat_minor": 0,
  "metadata": {
    "colab": {
      "name": "Word_Sense_Disambiguation_OverlapBased.ipynb",
      "provenance": [],
      "collapsed_sections": [
        "fCwfbkrwJg2j",
        "ZEw4-Z2PKOKx",
        "aJP2wf7bKqMp",
        "TDZRVyRMK-A-",
        "0ieKVugqLAZJ",
        "7cz7Bc2HR1wq"
      ],
      "include_colab_link": true
    },
    "kernelspec": {
      "name": "python3",
      "display_name": "Python 3"
    },
    "language_info": {
      "name": "python"
    }
  },
  "cells": [
    {
      "cell_type": "markdown",
      "metadata": {
        "id": "view-in-github",
        "colab_type": "text"
      },
      "source": [
        "<a href=\"https://colab.research.google.com/github/prayas99/Word-Sense-Disambiguation-Python/blob/main/Word_Sense_Disambiguation_OverlapBased.ipynb\" target=\"_parent\"><img src=\"https://colab.research.google.com/assets/colab-badge.svg\" alt=\"Open In Colab\"/></a>"
      ]
    },
    {
      "cell_type": "markdown",
      "metadata": {
        "id": "fCwfbkrwJg2j"
      },
      "source": [
        "# Download pre-trained word2vec model and enter path of downloaded file"
      ]
    },
    {
      "cell_type": "markdown",
      "source": [
        "Download pre-trained word2vec using : </br>\n",
        "!wget -c \"https://s3.amazonaws.com/dl4j-distribution/GoogleNews-vectors-negative300.bin.gz\"\n"
      ],
      "metadata": {
        "id": "VSP55kGUMY1J"
      }
    },
    {
      "cell_type": "code",
      "source": [
        "your_path_to_saved_model = 'your_parent_directory/GoogleNews-vectors-negative300.bin.gz'"
      ],
      "metadata": {
        "id": "DjQmwUlRMp5H"
      },
      "execution_count": null,
      "outputs": []
    },
    {
      "cell_type": "markdown",
      "source": [
        "# Pre-trained word2vec model"
      ],
      "metadata": {
        "id": "pCDajEAuMw2y"
      }
    },
    {
      "cell_type": "code",
      "metadata": {
        "colab": {
          "base_uri": "https://localhost:8080/"
        },
        "id": "jkpxJlICJeQU",
        "outputId": "3c69538f-6c88-4975-b30d-d6ad5b569718"
      },
      "source": [
        "# Uncomment mount drive code lines if you want to mount your drive to load \n",
        "# pre-trained word2vec model\n",
        "\n",
        "from google.colab import drive\n",
        "drive.mount('/content/drive')\n",
        "\n",
        "# Replace your_path_to_saved_model to your path to GoogleNews-vectors-negative300.bin.gz\n",
        "# Below commented line shows our use of drive for loading the pre-trained model\n",
        "\n",
        "from gensim.models import KeyedVectors\n",
        "\n",
        "\n",
        "\n",
        "model_w2v = KeyedVectors.load_word2vec_format(your_path_to_saved_model,\n",
        "binary=True)\n",
        "# model_w2v = KeyedVectors.load_word2vec_format(',\n",
        "# binary=True)"
      ],
      "execution_count": null,
      "outputs": [
        {
          "output_type": "stream",
          "name": "stdout",
          "text": [
            "Mounted at /content/drive\n"
          ]
        }
      ]
    },
    {
      "cell_type": "markdown",
      "metadata": {
        "id": "ZEw4-Z2PKOKx"
      },
      "source": [
        "# Importing libraries"
      ]
    },
    {
      "cell_type": "code",
      "metadata": {
        "id": "jWDIdmgABWLd"
      },
      "source": [
        "import time\n",
        "import numpy as np\n",
        "from sklearn.metrics import confusion_matrix ,classification_report,accuracy_score,f1_score,precision_score,recall_score\n",
        "from sklearn.metrics.pairwise import cosine_similarity"
      ],
      "execution_count": null,
      "outputs": []
    },
    {
      "cell_type": "markdown",
      "metadata": {
        "id": "aJP2wf7bKqMp"
      },
      "source": [
        "# NLTK libraries"
      ]
    },
    {
      "cell_type": "code",
      "metadata": {
        "id": "2fu2wfg-vYix",
        "colab": {
          "base_uri": "https://localhost:8080/"
        },
        "outputId": "04876602-d5b9-4e8b-dc37-3fd592cf71cc"
      },
      "source": [
        "import nltk\n",
        "nltk.download('wordnet')\n",
        "nltk.download('semcor')\n",
        "! unzip -o /root/nltk_data/corpora/semcor.zip -d /root/nltk_data/corpora\n",
        "\n",
        "nltk.download('punkt')\n",
        "nltk.download('averaged_perceptron_tagger')\n",
        "nltk.download('tagsets')\n",
        "nltk.download('stopwords')"
      ],
      "execution_count": null,
      "outputs": [
        {
          "output_type": "stream",
          "name": "stdout",
          "text": [
            "[nltk_data] Downloading package wordnet to /root/nltk_data...\n",
            "[nltk_data]   Unzipping corpora/wordnet.zip.\n",
            "[nltk_data] Downloading package semcor to /root/nltk_data...\n",
            "Archive:  /root/nltk_data/corpora/semcor.zip\n",
            "   creating: /root/nltk_data/corpora/semcor/\n",
            "   creating: /root/nltk_data/corpora/semcor/brown1/\n",
            "   creating: /root/nltk_data/corpora/semcor/brown1/tagfiles/\n",
            "  inflating: /root/nltk_data/corpora/semcor/brown1/tagfiles/br-a01.xml  \n",
            "  inflating: /root/nltk_data/corpora/semcor/brown1/tagfiles/br-a02.xml  \n",
            "  inflating: /root/nltk_data/corpora/semcor/brown1/tagfiles/br-a11.xml  \n",
            "  inflating: /root/nltk_data/corpora/semcor/brown1/tagfiles/br-a12.xml  \n",
            "  inflating: /root/nltk_data/corpora/semcor/brown1/tagfiles/br-a13.xml  \n",
            "  inflating: /root/nltk_data/corpora/semcor/brown1/tagfiles/br-a14.xml  \n",
            "  inflating: /root/nltk_data/corpora/semcor/brown1/tagfiles/br-a15.xml  \n",
            "  inflating: /root/nltk_data/corpora/semcor/brown1/tagfiles/br-b13.xml  \n",
            "  inflating: /root/nltk_data/corpora/semcor/brown1/tagfiles/br-b20.xml  \n",
            "  inflating: /root/nltk_data/corpora/semcor/brown1/tagfiles/br-c01.xml  \n",
            "  inflating: /root/nltk_data/corpora/semcor/brown1/tagfiles/br-c02.xml  \n",
            "  inflating: /root/nltk_data/corpora/semcor/brown1/tagfiles/br-c04.xml  \n",
            "  inflating: /root/nltk_data/corpora/semcor/brown1/tagfiles/br-d01.xml  \n",
            "  inflating: /root/nltk_data/corpora/semcor/brown1/tagfiles/br-d02.xml  \n",
            "  inflating: /root/nltk_data/corpora/semcor/brown1/tagfiles/br-d03.xml  \n",
            "  inflating: /root/nltk_data/corpora/semcor/brown1/tagfiles/br-d04.xml  \n",
            "  inflating: /root/nltk_data/corpora/semcor/brown1/tagfiles/br-e01.xml  \n",
            "  inflating: /root/nltk_data/corpora/semcor/brown1/tagfiles/br-e02.xml  \n",
            "  inflating: /root/nltk_data/corpora/semcor/brown1/tagfiles/br-e04.xml  \n",
            "  inflating: /root/nltk_data/corpora/semcor/brown1/tagfiles/br-e21.xml  \n",
            "  inflating: /root/nltk_data/corpora/semcor/brown1/tagfiles/br-e24.xml  \n",
            "  inflating: /root/nltk_data/corpora/semcor/brown1/tagfiles/br-e29.xml  \n",
            "  inflating: /root/nltk_data/corpora/semcor/brown1/tagfiles/br-f03.xml  \n",
            "  inflating: /root/nltk_data/corpora/semcor/brown1/tagfiles/br-f10.xml  \n",
            "  inflating: /root/nltk_data/corpora/semcor/brown1/tagfiles/br-f19.xml  \n",
            "  inflating: /root/nltk_data/corpora/semcor/brown1/tagfiles/br-f43.xml  \n",
            "  inflating: /root/nltk_data/corpora/semcor/brown1/tagfiles/br-g01.xml  \n",
            "  inflating: /root/nltk_data/corpora/semcor/brown1/tagfiles/br-g11.xml  \n",
            "  inflating: /root/nltk_data/corpora/semcor/brown1/tagfiles/br-g15.xml  \n",
            "  inflating: /root/nltk_data/corpora/semcor/brown1/tagfiles/br-h01.xml  \n",
            "  inflating: /root/nltk_data/corpora/semcor/brown1/tagfiles/br-j01.xml  \n",
            "  inflating: /root/nltk_data/corpora/semcor/brown1/tagfiles/br-j02.xml  \n",
            "  inflating: /root/nltk_data/corpora/semcor/brown1/tagfiles/br-j03.xml  \n",
            "  inflating: /root/nltk_data/corpora/semcor/brown1/tagfiles/br-j04.xml  \n",
            "  inflating: /root/nltk_data/corpora/semcor/brown1/tagfiles/br-j05.xml  \n",
            "  inflating: /root/nltk_data/corpora/semcor/brown1/tagfiles/br-j06.xml  \n",
            "  inflating: /root/nltk_data/corpora/semcor/brown1/tagfiles/br-j07.xml  \n",
            "  inflating: /root/nltk_data/corpora/semcor/brown1/tagfiles/br-j08.xml  \n",
            "  inflating: /root/nltk_data/corpora/semcor/brown1/tagfiles/br-j09.xml  \n",
            "  inflating: /root/nltk_data/corpora/semcor/brown1/tagfiles/br-j10.xml  \n",
            "  inflating: /root/nltk_data/corpora/semcor/brown1/tagfiles/br-j11.xml  \n",
            "  inflating: /root/nltk_data/corpora/semcor/brown1/tagfiles/br-j12.xml  \n",
            "  inflating: /root/nltk_data/corpora/semcor/brown1/tagfiles/br-j13.xml  \n",
            "  inflating: /root/nltk_data/corpora/semcor/brown1/tagfiles/br-j14.xml  \n",
            "  inflating: /root/nltk_data/corpora/semcor/brown1/tagfiles/br-j15.xml  \n",
            "  inflating: /root/nltk_data/corpora/semcor/brown1/tagfiles/br-j16.xml  \n",
            "  inflating: /root/nltk_data/corpora/semcor/brown1/tagfiles/br-j17.xml  \n",
            "  inflating: /root/nltk_data/corpora/semcor/brown1/tagfiles/br-j18.xml  \n",
            "  inflating: /root/nltk_data/corpora/semcor/brown1/tagfiles/br-j19.xml  \n",
            "  inflating: /root/nltk_data/corpora/semcor/brown1/tagfiles/br-j20.xml  \n",
            "  inflating: /root/nltk_data/corpora/semcor/brown1/tagfiles/br-j22.xml  \n",
            "  inflating: /root/nltk_data/corpora/semcor/brown1/tagfiles/br-j23.xml  \n",
            "  inflating: /root/nltk_data/corpora/semcor/brown1/tagfiles/br-j37.xml  \n",
            "  inflating: /root/nltk_data/corpora/semcor/brown1/tagfiles/br-j52.xml  \n",
            "  inflating: /root/nltk_data/corpora/semcor/brown1/tagfiles/br-j53.xml  \n",
            "  inflating: /root/nltk_data/corpora/semcor/brown1/tagfiles/br-j54.xml  \n",
            "  inflating: /root/nltk_data/corpora/semcor/brown1/tagfiles/br-j55.xml  \n",
            "  inflating: /root/nltk_data/corpora/semcor/brown1/tagfiles/br-j56.xml  \n",
            "  inflating: /root/nltk_data/corpora/semcor/brown1/tagfiles/br-j57.xml  \n",
            "  inflating: /root/nltk_data/corpora/semcor/brown1/tagfiles/br-j58.xml  \n",
            "  inflating: /root/nltk_data/corpora/semcor/brown1/tagfiles/br-j59.xml  \n",
            "  inflating: /root/nltk_data/corpora/semcor/brown1/tagfiles/br-j60.xml  \n",
            "  inflating: /root/nltk_data/corpora/semcor/brown1/tagfiles/br-j70.xml  \n",
            "  inflating: /root/nltk_data/corpora/semcor/brown1/tagfiles/br-k01.xml  \n",
            "  inflating: /root/nltk_data/corpora/semcor/brown1/tagfiles/br-k02.xml  \n",
            "  inflating: /root/nltk_data/corpora/semcor/brown1/tagfiles/br-k03.xml  \n",
            "  inflating: /root/nltk_data/corpora/semcor/brown1/tagfiles/br-k04.xml  \n",
            "  inflating: /root/nltk_data/corpora/semcor/brown1/tagfiles/br-k05.xml  \n",
            "  inflating: /root/nltk_data/corpora/semcor/brown1/tagfiles/br-k06.xml  \n",
            "  inflating: /root/nltk_data/corpora/semcor/brown1/tagfiles/br-k07.xml  \n",
            "  inflating: /root/nltk_data/corpora/semcor/brown1/tagfiles/br-k08.xml  \n",
            "  inflating: /root/nltk_data/corpora/semcor/brown1/tagfiles/br-k09.xml  \n",
            "  inflating: /root/nltk_data/corpora/semcor/brown1/tagfiles/br-k10.xml  \n",
            "  inflating: /root/nltk_data/corpora/semcor/brown1/tagfiles/br-k11.xml  \n",
            "  inflating: /root/nltk_data/corpora/semcor/brown1/tagfiles/br-k12.xml  \n",
            "  inflating: /root/nltk_data/corpora/semcor/brown1/tagfiles/br-k13.xml  \n",
            "  inflating: /root/nltk_data/corpora/semcor/brown1/tagfiles/br-k14.xml  \n",
            "  inflating: /root/nltk_data/corpora/semcor/brown1/tagfiles/br-k15.xml  \n",
            "  inflating: /root/nltk_data/corpora/semcor/brown1/tagfiles/br-k16.xml  \n",
            "  inflating: /root/nltk_data/corpora/semcor/brown1/tagfiles/br-k17.xml  \n",
            "  inflating: /root/nltk_data/corpora/semcor/brown1/tagfiles/br-k18.xml  \n",
            "  inflating: /root/nltk_data/corpora/semcor/brown1/tagfiles/br-k19.xml  \n",
            "  inflating: /root/nltk_data/corpora/semcor/brown1/tagfiles/br-k20.xml  \n",
            "  inflating: /root/nltk_data/corpora/semcor/brown1/tagfiles/br-k21.xml  \n",
            "  inflating: /root/nltk_data/corpora/semcor/brown1/tagfiles/br-k22.xml  \n",
            "  inflating: /root/nltk_data/corpora/semcor/brown1/tagfiles/br-k23.xml  \n",
            "  inflating: /root/nltk_data/corpora/semcor/brown1/tagfiles/br-k24.xml  \n",
            "  inflating: /root/nltk_data/corpora/semcor/brown1/tagfiles/br-k25.xml  \n",
            "  inflating: /root/nltk_data/corpora/semcor/brown1/tagfiles/br-k26.xml  \n",
            "  inflating: /root/nltk_data/corpora/semcor/brown1/tagfiles/br-k27.xml  \n",
            "  inflating: /root/nltk_data/corpora/semcor/brown1/tagfiles/br-k28.xml  \n",
            "  inflating: /root/nltk_data/corpora/semcor/brown1/tagfiles/br-k29.xml  \n",
            "  inflating: /root/nltk_data/corpora/semcor/brown1/tagfiles/br-l11.xml  \n",
            "  inflating: /root/nltk_data/corpora/semcor/brown1/tagfiles/br-l12.xml  \n",
            "  inflating: /root/nltk_data/corpora/semcor/brown1/tagfiles/br-m01.xml  \n",
            "  inflating: /root/nltk_data/corpora/semcor/brown1/tagfiles/br-m02.xml  \n",
            "  inflating: /root/nltk_data/corpora/semcor/brown1/tagfiles/br-n05.xml  \n",
            "  inflating: /root/nltk_data/corpora/semcor/brown1/tagfiles/br-p01.xml  \n",
            "  inflating: /root/nltk_data/corpora/semcor/brown1/tagfiles/br-r05.xml  \n",
            "  inflating: /root/nltk_data/corpora/semcor/brown1/tagfiles/br-r06.xml  \n",
            "  inflating: /root/nltk_data/corpora/semcor/brown1/tagfiles/br-r07.xml  \n",
            "  inflating: /root/nltk_data/corpora/semcor/brown1/tagfiles/br-r08.xml  \n",
            "  inflating: /root/nltk_data/corpora/semcor/brown1/tagfiles/br-r09.xml  \n",
            "   creating: /root/nltk_data/corpora/semcor/brown2/\n",
            "   creating: /root/nltk_data/corpora/semcor/brown2/tagfiles/\n",
            "  inflating: /root/nltk_data/corpora/semcor/brown2/tagfiles/br-e22.xml  \n",
            "  inflating: /root/nltk_data/corpora/semcor/brown2/tagfiles/br-e23.xml  \n",
            "  inflating: /root/nltk_data/corpora/semcor/brown2/tagfiles/br-e25.xml  \n",
            "  inflating: /root/nltk_data/corpora/semcor/brown2/tagfiles/br-e26.xml  \n",
            "  inflating: /root/nltk_data/corpora/semcor/brown2/tagfiles/br-e27.xml  \n",
            "  inflating: /root/nltk_data/corpora/semcor/brown2/tagfiles/br-e28.xml  \n",
            "  inflating: /root/nltk_data/corpora/semcor/brown2/tagfiles/br-e30.xml  \n",
            "  inflating: /root/nltk_data/corpora/semcor/brown2/tagfiles/br-e31.xml  \n",
            "  inflating: /root/nltk_data/corpora/semcor/brown2/tagfiles/br-f08.xml  \n",
            "  inflating: /root/nltk_data/corpora/semcor/brown2/tagfiles/br-f13.xml  \n",
            "  inflating: /root/nltk_data/corpora/semcor/brown2/tagfiles/br-f14.xml  \n",
            "  inflating: /root/nltk_data/corpora/semcor/brown2/tagfiles/br-f15.xml  \n",
            "  inflating: /root/nltk_data/corpora/semcor/brown2/tagfiles/br-f16.xml  \n",
            "  inflating: /root/nltk_data/corpora/semcor/brown2/tagfiles/br-f17.xml  \n",
            "  inflating: /root/nltk_data/corpora/semcor/brown2/tagfiles/br-f18.xml  \n",
            "  inflating: /root/nltk_data/corpora/semcor/brown2/tagfiles/br-f20.xml  \n",
            "  inflating: /root/nltk_data/corpora/semcor/brown2/tagfiles/br-f21.xml  \n",
            "  inflating: /root/nltk_data/corpora/semcor/brown2/tagfiles/br-f22.xml  \n",
            "  inflating: /root/nltk_data/corpora/semcor/brown2/tagfiles/br-f23.xml  \n",
            "  inflating: /root/nltk_data/corpora/semcor/brown2/tagfiles/br-f24.xml  \n",
            "  inflating: /root/nltk_data/corpora/semcor/brown2/tagfiles/br-f25.xml  \n",
            "  inflating: /root/nltk_data/corpora/semcor/brown2/tagfiles/br-f33.xml  \n",
            "  inflating: /root/nltk_data/corpora/semcor/brown2/tagfiles/br-f44.xml  \n",
            "  inflating: /root/nltk_data/corpora/semcor/brown2/tagfiles/br-g12.xml  \n",
            "  inflating: /root/nltk_data/corpora/semcor/brown2/tagfiles/br-g14.xml  \n",
            "  inflating: /root/nltk_data/corpora/semcor/brown2/tagfiles/br-g16.xml  \n",
            "  inflating: /root/nltk_data/corpora/semcor/brown2/tagfiles/br-g17.xml  \n",
            "  inflating: /root/nltk_data/corpora/semcor/brown2/tagfiles/br-g18.xml  \n",
            "  inflating: /root/nltk_data/corpora/semcor/brown2/tagfiles/br-g19.xml  \n",
            "  inflating: /root/nltk_data/corpora/semcor/brown2/tagfiles/br-g20.xml  \n",
            "  inflating: /root/nltk_data/corpora/semcor/brown2/tagfiles/br-g21.xml  \n",
            "  inflating: /root/nltk_data/corpora/semcor/brown2/tagfiles/br-g22.xml  \n",
            "  inflating: /root/nltk_data/corpora/semcor/brown2/tagfiles/br-g23.xml  \n",
            "  inflating: /root/nltk_data/corpora/semcor/brown2/tagfiles/br-g28.xml  \n",
            "  inflating: /root/nltk_data/corpora/semcor/brown2/tagfiles/br-g31.xml  \n",
            "  inflating: /root/nltk_data/corpora/semcor/brown2/tagfiles/br-g39.xml  \n",
            "  inflating: /root/nltk_data/corpora/semcor/brown2/tagfiles/br-g43.xml  \n",
            "  inflating: /root/nltk_data/corpora/semcor/brown2/tagfiles/br-g44.xml  \n",
            "  inflating: /root/nltk_data/corpora/semcor/brown2/tagfiles/br-h09.xml  \n",
            "  inflating: /root/nltk_data/corpora/semcor/brown2/tagfiles/br-h11.xml  \n",
            "  inflating: /root/nltk_data/corpora/semcor/brown2/tagfiles/br-h12.xml  \n",
            "  inflating: /root/nltk_data/corpora/semcor/brown2/tagfiles/br-h13.xml  \n",
            "  inflating: /root/nltk_data/corpora/semcor/brown2/tagfiles/br-h14.xml  \n",
            "  inflating: /root/nltk_data/corpora/semcor/brown2/tagfiles/br-h15.xml  \n",
            "  inflating: /root/nltk_data/corpora/semcor/brown2/tagfiles/br-h16.xml  \n",
            "  inflating: /root/nltk_data/corpora/semcor/brown2/tagfiles/br-h17.xml  \n",
            "  inflating: /root/nltk_data/corpora/semcor/brown2/tagfiles/br-h18.xml  \n",
            "  inflating: /root/nltk_data/corpora/semcor/brown2/tagfiles/br-h21.xml  \n",
            "  inflating: /root/nltk_data/corpora/semcor/brown2/tagfiles/br-h24.xml  \n",
            "  inflating: /root/nltk_data/corpora/semcor/brown2/tagfiles/br-j29.xml  \n",
            "  inflating: /root/nltk_data/corpora/semcor/brown2/tagfiles/br-j30.xml  \n",
            "  inflating: /root/nltk_data/corpora/semcor/brown2/tagfiles/br-j31.xml  \n",
            "  inflating: /root/nltk_data/corpora/semcor/brown2/tagfiles/br-j32.xml  \n",
            "  inflating: /root/nltk_data/corpora/semcor/brown2/tagfiles/br-j33.xml  \n",
            "  inflating: /root/nltk_data/corpora/semcor/brown2/tagfiles/br-j34.xml  \n",
            "  inflating: /root/nltk_data/corpora/semcor/brown2/tagfiles/br-j35.xml  \n",
            "  inflating: /root/nltk_data/corpora/semcor/brown2/tagfiles/br-j38.xml  \n",
            "  inflating: /root/nltk_data/corpora/semcor/brown2/tagfiles/br-j41.xml  \n",
            "  inflating: /root/nltk_data/corpora/semcor/brown2/tagfiles/br-j42.xml  \n",
            "  inflating: /root/nltk_data/corpora/semcor/brown2/tagfiles/br-l08.xml  \n",
            "  inflating: /root/nltk_data/corpora/semcor/brown2/tagfiles/br-l09.xml  \n",
            "  inflating: /root/nltk_data/corpora/semcor/brown2/tagfiles/br-l10.xml  \n",
            "  inflating: /root/nltk_data/corpora/semcor/brown2/tagfiles/br-l13.xml  \n",
            "  inflating: /root/nltk_data/corpora/semcor/brown2/tagfiles/br-l14.xml  \n",
            "  inflating: /root/nltk_data/corpora/semcor/brown2/tagfiles/br-l15.xml  \n",
            "  inflating: /root/nltk_data/corpora/semcor/brown2/tagfiles/br-l16.xml  \n",
            "  inflating: /root/nltk_data/corpora/semcor/brown2/tagfiles/br-l17.xml  \n",
            "  inflating: /root/nltk_data/corpora/semcor/brown2/tagfiles/br-l18.xml  \n",
            "  inflating: /root/nltk_data/corpora/semcor/brown2/tagfiles/br-n09.xml  \n",
            "  inflating: /root/nltk_data/corpora/semcor/brown2/tagfiles/br-n10.xml  \n",
            "  inflating: /root/nltk_data/corpora/semcor/brown2/tagfiles/br-n11.xml  \n",
            "  inflating: /root/nltk_data/corpora/semcor/brown2/tagfiles/br-n12.xml  \n",
            "  inflating: /root/nltk_data/corpora/semcor/brown2/tagfiles/br-n14.xml  \n",
            "  inflating: /root/nltk_data/corpora/semcor/brown2/tagfiles/br-n15.xml  \n",
            "  inflating: /root/nltk_data/corpora/semcor/brown2/tagfiles/br-n16.xml  \n",
            "  inflating: /root/nltk_data/corpora/semcor/brown2/tagfiles/br-n17.xml  \n",
            "  inflating: /root/nltk_data/corpora/semcor/brown2/tagfiles/br-n20.xml  \n",
            "  inflating: /root/nltk_data/corpora/semcor/brown2/tagfiles/br-p07.xml  \n",
            "  inflating: /root/nltk_data/corpora/semcor/brown2/tagfiles/br-p09.xml  \n",
            "  inflating: /root/nltk_data/corpora/semcor/brown2/tagfiles/br-p10.xml  \n",
            "  inflating: /root/nltk_data/corpora/semcor/brown2/tagfiles/br-p12.xml  \n",
            "  inflating: /root/nltk_data/corpora/semcor/brown2/tagfiles/br-p24.xml  \n",
            "  inflating: /root/nltk_data/corpora/semcor/brown2/tagfiles/br-r04.xml  \n",
            "   creating: /root/nltk_data/corpora/semcor/brownv/\n",
            "   creating: /root/nltk_data/corpora/semcor/brownv/tagfiles/\n",
            "  inflating: /root/nltk_data/corpora/semcor/brownv/tagfiles/br-a03.xml  \n",
            "  inflating: /root/nltk_data/corpora/semcor/brownv/tagfiles/br-a04.xml  \n",
            "  inflating: /root/nltk_data/corpora/semcor/brownv/tagfiles/br-a05.xml  \n",
            "  inflating: /root/nltk_data/corpora/semcor/brownv/tagfiles/br-a06.xml  \n",
            "  inflating: /root/nltk_data/corpora/semcor/brownv/tagfiles/br-a07.xml  \n",
            "  inflating: /root/nltk_data/corpora/semcor/brownv/tagfiles/br-a08.xml  \n",
            "  inflating: /root/nltk_data/corpora/semcor/brownv/tagfiles/br-a09.xml  \n",
            "  inflating: /root/nltk_data/corpora/semcor/brownv/tagfiles/br-a10.xml  \n",
            "  inflating: /root/nltk_data/corpora/semcor/brownv/tagfiles/br-a16.xml  \n",
            "  inflating: /root/nltk_data/corpora/semcor/brownv/tagfiles/br-a17.xml  \n",
            "  inflating: /root/nltk_data/corpora/semcor/brownv/tagfiles/br-a18.xml  \n",
            "  inflating: /root/nltk_data/corpora/semcor/brownv/tagfiles/br-a19.xml  \n",
            "  inflating: /root/nltk_data/corpora/semcor/brownv/tagfiles/br-a20.xml  \n",
            "  inflating: /root/nltk_data/corpora/semcor/brownv/tagfiles/br-a21.xml  \n",
            "  inflating: /root/nltk_data/corpora/semcor/brownv/tagfiles/br-a22.xml  \n",
            "  inflating: /root/nltk_data/corpora/semcor/brownv/tagfiles/br-a23.xml  \n",
            "  inflating: /root/nltk_data/corpora/semcor/brownv/tagfiles/br-a24.xml  \n",
            "  inflating: /root/nltk_data/corpora/semcor/brownv/tagfiles/br-a25.xml  \n",
            "  inflating: /root/nltk_data/corpora/semcor/brownv/tagfiles/br-a26.xml  \n",
            "  inflating: /root/nltk_data/corpora/semcor/brownv/tagfiles/br-a27.xml  \n",
            "  inflating: /root/nltk_data/corpora/semcor/brownv/tagfiles/br-a28.xml  \n",
            "  inflating: /root/nltk_data/corpora/semcor/brownv/tagfiles/br-a29.xml  \n",
            "  inflating: /root/nltk_data/corpora/semcor/brownv/tagfiles/br-a30.xml  \n",
            "  inflating: /root/nltk_data/corpora/semcor/brownv/tagfiles/br-a31.xml  \n",
            "  inflating: /root/nltk_data/corpora/semcor/brownv/tagfiles/br-a32.xml  \n",
            "  inflating: /root/nltk_data/corpora/semcor/brownv/tagfiles/br-a33.xml  \n",
            "  inflating: /root/nltk_data/corpora/semcor/brownv/tagfiles/br-a34.xml  \n",
            "  inflating: /root/nltk_data/corpora/semcor/brownv/tagfiles/br-a35.xml  \n",
            "  inflating: /root/nltk_data/corpora/semcor/brownv/tagfiles/br-a36.xml  \n",
            "  inflating: /root/nltk_data/corpora/semcor/brownv/tagfiles/br-a37.xml  \n",
            "  inflating: /root/nltk_data/corpora/semcor/brownv/tagfiles/br-a38.xml  \n",
            "  inflating: /root/nltk_data/corpora/semcor/brownv/tagfiles/br-a39.xml  \n",
            "  inflating: /root/nltk_data/corpora/semcor/brownv/tagfiles/br-a40.xml  \n",
            "  inflating: /root/nltk_data/corpora/semcor/brownv/tagfiles/br-a41.xml  \n",
            "  inflating: /root/nltk_data/corpora/semcor/brownv/tagfiles/br-a42.xml  \n",
            "  inflating: /root/nltk_data/corpora/semcor/brownv/tagfiles/br-a43.xml  \n",
            "  inflating: /root/nltk_data/corpora/semcor/brownv/tagfiles/br-a44.xml  \n",
            "  inflating: /root/nltk_data/corpora/semcor/brownv/tagfiles/br-b01.xml  \n",
            "  inflating: /root/nltk_data/corpora/semcor/brownv/tagfiles/br-b02.xml  \n",
            "  inflating: /root/nltk_data/corpora/semcor/brownv/tagfiles/br-b03.xml  \n",
            "  inflating: /root/nltk_data/corpora/semcor/brownv/tagfiles/br-b04.xml  \n",
            "  inflating: /root/nltk_data/corpora/semcor/brownv/tagfiles/br-b05.xml  \n",
            "  inflating: /root/nltk_data/corpora/semcor/brownv/tagfiles/br-b06.xml  \n",
            "  inflating: /root/nltk_data/corpora/semcor/brownv/tagfiles/br-b07.xml  \n",
            "  inflating: /root/nltk_data/corpora/semcor/brownv/tagfiles/br-b08.xml  \n",
            "  inflating: /root/nltk_data/corpora/semcor/brownv/tagfiles/br-b09.xml  \n",
            "  inflating: /root/nltk_data/corpora/semcor/brownv/tagfiles/br-b10.xml  \n",
            "  inflating: /root/nltk_data/corpora/semcor/brownv/tagfiles/br-b11.xml  \n",
            "  inflating: /root/nltk_data/corpora/semcor/brownv/tagfiles/br-b12.xml  \n",
            "  inflating: /root/nltk_data/corpora/semcor/brownv/tagfiles/br-b14.xml  \n",
            "  inflating: /root/nltk_data/corpora/semcor/brownv/tagfiles/br-b15.xml  \n",
            "  inflating: /root/nltk_data/corpora/semcor/brownv/tagfiles/br-b16.xml  \n",
            "  inflating: /root/nltk_data/corpora/semcor/brownv/tagfiles/br-b17.xml  \n",
            "  inflating: /root/nltk_data/corpora/semcor/brownv/tagfiles/br-b18.xml  \n",
            "  inflating: /root/nltk_data/corpora/semcor/brownv/tagfiles/br-b19.xml  \n",
            "  inflating: /root/nltk_data/corpora/semcor/brownv/tagfiles/br-b21.xml  \n",
            "  inflating: /root/nltk_data/corpora/semcor/brownv/tagfiles/br-b22.xml  \n",
            "  inflating: /root/nltk_data/corpora/semcor/brownv/tagfiles/br-b23.xml  \n",
            "  inflating: /root/nltk_data/corpora/semcor/brownv/tagfiles/br-b24.xml  \n",
            "  inflating: /root/nltk_data/corpora/semcor/brownv/tagfiles/br-b25.xml  \n",
            "  inflating: /root/nltk_data/corpora/semcor/brownv/tagfiles/br-b26.xml  \n",
            "  inflating: /root/nltk_data/corpora/semcor/brownv/tagfiles/br-b27.xml  \n",
            "  inflating: /root/nltk_data/corpora/semcor/brownv/tagfiles/br-c03.xml  \n",
            "  inflating: /root/nltk_data/corpora/semcor/brownv/tagfiles/br-c05.xml  \n",
            "  inflating: /root/nltk_data/corpora/semcor/brownv/tagfiles/br-c06.xml  \n",
            "  inflating: /root/nltk_data/corpora/semcor/brownv/tagfiles/br-c07.xml  \n",
            "  inflating: /root/nltk_data/corpora/semcor/brownv/tagfiles/br-c08.xml  \n",
            "  inflating: /root/nltk_data/corpora/semcor/brownv/tagfiles/br-c09.xml  \n",
            "  inflating: /root/nltk_data/corpora/semcor/brownv/tagfiles/br-c10.xml  \n",
            "  inflating: /root/nltk_data/corpora/semcor/brownv/tagfiles/br-c11.xml  \n",
            "  inflating: /root/nltk_data/corpora/semcor/brownv/tagfiles/br-c12.xml  \n",
            "  inflating: /root/nltk_data/corpora/semcor/brownv/tagfiles/br-c13.xml  \n",
            "  inflating: /root/nltk_data/corpora/semcor/brownv/tagfiles/br-c14.xml  \n",
            "  inflating: /root/nltk_data/corpora/semcor/brownv/tagfiles/br-c15.xml  \n",
            "  inflating: /root/nltk_data/corpora/semcor/brownv/tagfiles/br-c16.xml  \n",
            "  inflating: /root/nltk_data/corpora/semcor/brownv/tagfiles/br-c17.xml  \n",
            "  inflating: /root/nltk_data/corpora/semcor/brownv/tagfiles/br-d05.xml  \n",
            "  inflating: /root/nltk_data/corpora/semcor/brownv/tagfiles/br-d06.xml  \n",
            "  inflating: /root/nltk_data/corpora/semcor/brownv/tagfiles/br-d07.xml  \n",
            "  inflating: /root/nltk_data/corpora/semcor/brownv/tagfiles/br-d08.xml  \n",
            "  inflating: /root/nltk_data/corpora/semcor/brownv/tagfiles/br-d09.xml  \n",
            "  inflating: /root/nltk_data/corpora/semcor/brownv/tagfiles/br-d10.xml  \n",
            "  inflating: /root/nltk_data/corpora/semcor/brownv/tagfiles/br-d11.xml  \n",
            "  inflating: /root/nltk_data/corpora/semcor/brownv/tagfiles/br-d12.xml  \n",
            "  inflating: /root/nltk_data/corpora/semcor/brownv/tagfiles/br-d13.xml  \n",
            "  inflating: /root/nltk_data/corpora/semcor/brownv/tagfiles/br-d14.xml  \n",
            "  inflating: /root/nltk_data/corpora/semcor/brownv/tagfiles/br-d15.xml  \n",
            "  inflating: /root/nltk_data/corpora/semcor/brownv/tagfiles/br-d16.xml  \n",
            "  inflating: /root/nltk_data/corpora/semcor/brownv/tagfiles/br-d17.xml  \n",
            "  inflating: /root/nltk_data/corpora/semcor/brownv/tagfiles/br-e03.xml  \n",
            "  inflating: /root/nltk_data/corpora/semcor/brownv/tagfiles/br-e05.xml  \n",
            "  inflating: /root/nltk_data/corpora/semcor/brownv/tagfiles/br-e06.xml  \n",
            "  inflating: /root/nltk_data/corpora/semcor/brownv/tagfiles/br-e07.xml  \n",
            "  inflating: /root/nltk_data/corpora/semcor/brownv/tagfiles/br-e08.xml  \n",
            "  inflating: /root/nltk_data/corpora/semcor/brownv/tagfiles/br-e09.xml  \n",
            "  inflating: /root/nltk_data/corpora/semcor/brownv/tagfiles/br-e10.xml  \n",
            "  inflating: /root/nltk_data/corpora/semcor/brownv/tagfiles/br-e11.xml  \n",
            "  inflating: /root/nltk_data/corpora/semcor/brownv/tagfiles/br-e12.xml  \n",
            "  inflating: /root/nltk_data/corpora/semcor/brownv/tagfiles/br-e13.xml  \n",
            "  inflating: /root/nltk_data/corpora/semcor/brownv/tagfiles/br-e14.xml  \n",
            "  inflating: /root/nltk_data/corpora/semcor/brownv/tagfiles/br-e15.xml  \n",
            "  inflating: /root/nltk_data/corpora/semcor/brownv/tagfiles/br-e16.xml  \n",
            "  inflating: /root/nltk_data/corpora/semcor/brownv/tagfiles/br-e17.xml  \n",
            "  inflating: /root/nltk_data/corpora/semcor/brownv/tagfiles/br-e18.xml  \n",
            "  inflating: /root/nltk_data/corpora/semcor/brownv/tagfiles/br-e19.xml  \n",
            "  inflating: /root/nltk_data/corpora/semcor/brownv/tagfiles/br-e20.xml  \n",
            "  inflating: /root/nltk_data/corpora/semcor/brownv/tagfiles/br-f01.xml  \n",
            "  inflating: /root/nltk_data/corpora/semcor/brownv/tagfiles/br-f02.xml  \n",
            "  inflating: /root/nltk_data/corpora/semcor/brownv/tagfiles/br-f04.xml  \n",
            "  inflating: /root/nltk_data/corpora/semcor/brownv/tagfiles/br-f05.xml  \n",
            "  inflating: /root/nltk_data/corpora/semcor/brownv/tagfiles/br-f06.xml  \n",
            "  inflating: /root/nltk_data/corpora/semcor/brownv/tagfiles/br-f07.xml  \n",
            "  inflating: /root/nltk_data/corpora/semcor/brownv/tagfiles/br-f09.xml  \n",
            "  inflating: /root/nltk_data/corpora/semcor/brownv/tagfiles/br-f11.xml  \n",
            "  inflating: /root/nltk_data/corpora/semcor/brownv/tagfiles/br-f12.xml  \n",
            "  inflating: /root/nltk_data/corpora/semcor/brownv/tagfiles/br-g02.xml  \n",
            "  inflating: /root/nltk_data/corpora/semcor/brownv/tagfiles/br-g03.xml  \n",
            "  inflating: /root/nltk_data/corpora/semcor/brownv/tagfiles/br-g04.xml  \n",
            "  inflating: /root/nltk_data/corpora/semcor/brownv/tagfiles/br-g05.xml  \n",
            "  inflating: /root/nltk_data/corpora/semcor/brownv/tagfiles/br-g06.xml  \n",
            "  inflating: /root/nltk_data/corpora/semcor/brownv/tagfiles/br-g07.xml  \n",
            "  inflating: /root/nltk_data/corpora/semcor/brownv/tagfiles/br-g08.xml  \n",
            "  inflating: /root/nltk_data/corpora/semcor/brownv/tagfiles/br-g09.xml  \n",
            "  inflating: /root/nltk_data/corpora/semcor/brownv/tagfiles/br-g10.xml  \n",
            "  inflating: /root/nltk_data/corpora/semcor/brownv/tagfiles/br-g13.xml  \n",
            "  inflating: /root/nltk_data/corpora/semcor/brownv/tagfiles/br-h02.xml  \n",
            "  inflating: /root/nltk_data/corpora/semcor/brownv/tagfiles/br-h03.xml  \n",
            "  inflating: /root/nltk_data/corpora/semcor/brownv/tagfiles/br-h04.xml  \n",
            "  inflating: /root/nltk_data/corpora/semcor/brownv/tagfiles/br-h05.xml  \n",
            "  inflating: /root/nltk_data/corpora/semcor/brownv/tagfiles/br-h06.xml  \n",
            "  inflating: /root/nltk_data/corpora/semcor/brownv/tagfiles/br-h07.xml  \n",
            "  inflating: /root/nltk_data/corpora/semcor/brownv/tagfiles/br-h08.xml  \n",
            "  inflating: /root/nltk_data/corpora/semcor/brownv/tagfiles/br-h10.xml  \n",
            "  inflating: /root/nltk_data/corpora/semcor/brownv/tagfiles/br-j21.xml  \n",
            "  inflating: /root/nltk_data/corpora/semcor/brownv/tagfiles/br-j24.xml  \n",
            "  inflating: /root/nltk_data/corpora/semcor/brownv/tagfiles/br-j25.xml  \n",
            "  inflating: /root/nltk_data/corpora/semcor/brownv/tagfiles/br-j26.xml  \n",
            "  inflating: /root/nltk_data/corpora/semcor/brownv/tagfiles/br-j27.xml  \n",
            "  inflating: /root/nltk_data/corpora/semcor/brownv/tagfiles/br-j28.xml  \n",
            "  inflating: /root/nltk_data/corpora/semcor/brownv/tagfiles/br-l01.xml  \n",
            "  inflating: /root/nltk_data/corpora/semcor/brownv/tagfiles/br-l02.xml  \n",
            "  inflating: /root/nltk_data/corpora/semcor/brownv/tagfiles/br-l03.xml  \n",
            "  inflating: /root/nltk_data/corpora/semcor/brownv/tagfiles/br-l04.xml  \n",
            "  inflating: /root/nltk_data/corpora/semcor/brownv/tagfiles/br-l05.xml  \n",
            "  inflating: /root/nltk_data/corpora/semcor/brownv/tagfiles/br-l06.xml  \n",
            "  inflating: /root/nltk_data/corpora/semcor/brownv/tagfiles/br-l07.xml  \n",
            "  inflating: /root/nltk_data/corpora/semcor/brownv/tagfiles/br-m03.xml  \n",
            "  inflating: /root/nltk_data/corpora/semcor/brownv/tagfiles/br-m04.xml  \n",
            "  inflating: /root/nltk_data/corpora/semcor/brownv/tagfiles/br-m05.xml  \n",
            "  inflating: /root/nltk_data/corpora/semcor/brownv/tagfiles/br-m06.xml  \n",
            "  inflating: /root/nltk_data/corpora/semcor/brownv/tagfiles/br-n01.xml  \n",
            "  inflating: /root/nltk_data/corpora/semcor/brownv/tagfiles/br-n02.xml  \n",
            "  inflating: /root/nltk_data/corpora/semcor/brownv/tagfiles/br-n03.xml  \n",
            "  inflating: /root/nltk_data/corpora/semcor/brownv/tagfiles/br-n04.xml  \n",
            "  inflating: /root/nltk_data/corpora/semcor/brownv/tagfiles/br-n06.xml  \n",
            "  inflating: /root/nltk_data/corpora/semcor/brownv/tagfiles/br-n07.xml  \n",
            "  inflating: /root/nltk_data/corpora/semcor/brownv/tagfiles/br-n08.xml  \n",
            "  inflating: /root/nltk_data/corpora/semcor/brownv/tagfiles/br-p02.xml  \n",
            "  inflating: /root/nltk_data/corpora/semcor/brownv/tagfiles/br-p03.xml  \n",
            "  inflating: /root/nltk_data/corpora/semcor/brownv/tagfiles/br-p04.xml  \n",
            "  inflating: /root/nltk_data/corpora/semcor/brownv/tagfiles/br-p05.xml  \n",
            "  inflating: /root/nltk_data/corpora/semcor/brownv/tagfiles/br-p06.xml  \n",
            "  inflating: /root/nltk_data/corpora/semcor/brownv/tagfiles/br-p08.xml  \n",
            "  inflating: /root/nltk_data/corpora/semcor/brownv/tagfiles/br-r01.xml  \n",
            "  inflating: /root/nltk_data/corpora/semcor/brownv/tagfiles/br-r02.xml  \n",
            "  inflating: /root/nltk_data/corpora/semcor/brownv/tagfiles/br-r03.xml  \n",
            "  inflating: /root/nltk_data/corpora/semcor/INSTALL  \n",
            "  inflating: /root/nltk_data/corpora/semcor/LICENSE  \n",
            "  inflating: /root/nltk_data/corpora/semcor/README  \n",
            "  inflating: /root/nltk_data/corpora/semcor/semcor.py  \n",
            "[nltk_data] Downloading package punkt to /root/nltk_data...\n",
            "[nltk_data]   Unzipping tokenizers/punkt.zip.\n",
            "[nltk_data] Downloading package averaged_perceptron_tagger to\n",
            "[nltk_data]     /root/nltk_data...\n",
            "[nltk_data]   Unzipping taggers/averaged_perceptron_tagger.zip.\n",
            "[nltk_data] Downloading package tagsets to /root/nltk_data...\n",
            "[nltk_data]   Unzipping help/tagsets.zip.\n",
            "[nltk_data] Downloading package stopwords to /root/nltk_data...\n",
            "[nltk_data]   Unzipping corpora/stopwords.zip.\n"
          ]
        },
        {
          "output_type": "execute_result",
          "data": {
            "text/plain": [
              "True"
            ]
          },
          "metadata": {},
          "execution_count": 3
        }
      ]
    },
    {
      "cell_type": "code",
      "metadata": {
        "id": "yqoTh2jfEa2J"
      },
      "source": [
        "from nltk.corpus import stopwords\n",
        "from nltk.corpus import semcor\n",
        "from nltk.stem import WordNetLemmatizer \n",
        "from nltk.corpus import wordnet as wn"
      ],
      "execution_count": null,
      "outputs": []
    },
    {
      "cell_type": "code",
      "metadata": {
        "id": "3O-GOnq42QaX"
      },
      "source": [
        "tagged_sentences=semcor.tagged_sents(tag='sem')\n",
        "dataset=tagged_sentences"
      ],
      "execution_count": null,
      "outputs": []
    },
    {
      "cell_type": "markdown",
      "metadata": {
        "id": "TDZRVyRMK-A-"
      },
      "source": [
        "# Required functions"
      ]
    },
    {
      "cell_type": "code",
      "metadata": {
        "id": "18RZ4Ktq28l4"
      },
      "source": [
        "class Word2VecTransformer(object):\n",
        "    def __init__(self,word2vec):\n",
        "        self.word2vec=word2vec\n",
        "        \n",
        "    def transform(self,X):\n",
        "        return np.array([\n",
        "            np.mean([self.word2vec[token.lower()] for token in sent if token.lower() in self.word2vec.index2word and token.lower() not in stopwords.words('english')]\n",
        "            or [np.zeros(self.word2vec.vector_size)],axis=0)\n",
        "            for sent in X\n",
        "            ])    \n",
        "        \n",
        "def POS_tags(original_tag):\n",
        "    if original_tag.startswith('J'):\n",
        "        return wn.ADJ\n",
        "    elif original_tag.startswith('V'):\n",
        "        return wn.VERB\n",
        "    elif original_tag.startswith('R'):\n",
        "        return wn.ADV\n",
        "    else:\n",
        "        return wn.NOUN\n",
        "\n",
        "def ContextBag(sentence,i,c):\\\n",
        "  # building contect bag according to required context window\n",
        "  before=[]\n",
        "  index=i\n",
        "  move=int(c/2)\n",
        "  # c = -1 will denote whole remaining ssentence as context\n",
        "  while index>0 and (move>0 or c==-1):\n",
        "    index-=1\n",
        "    move-=1\n",
        "    before=[sentence[index]]+before\n",
        "  # capturing word token after target word for context addition\n",
        "  after=[]\n",
        "  index=i\n",
        "  move=int(c/2)\n",
        "  while index<len(sentence)-1 and (move>0 or c==-1):\n",
        "    index+=1\n",
        "    move-=1\n",
        "    after=after+[sentence[index]]\n",
        "  # returning both windows' conext words\n",
        "  return before+after\n",
        "\n",
        "def obtain_lemma(lemmatizer,text):\n",
        "    word_pos_lemma=[]\n",
        "    for w,p in nltk.pos_tag(nltk.word_tokenize(text)):\n",
        "        if p!=None:\n",
        "            word_pos_lemma.append(lemmatizer.lemmatize(w, pos=POS_tags(p)).lower())\n",
        "        else:\n",
        "            word_pos_lemma.append(lemmatizer.lemmatize(w).lower())\n",
        "    return word_pos_lemma\n",
        "\n",
        "def overlap_model(model,dataset,context_size=-1,n_best=1):\n",
        "  now = time.time()\n",
        "  data_len = len(dataset)\n",
        "  true_labels = []\n",
        "  pred_labels = []\n",
        "  done_sent = 0\n",
        "  total_words = 0\n",
        "  for sentence in dataset:\n",
        "    lemmatizer = WordNetLemmatizer()\n",
        "    context_words = []\n",
        "    synset_list = []\n",
        "    for l in sentence:\n",
        "      if isinstance(l,nltk.tree.Tree):\n",
        "        if type(l.label())==type('ank'):\n",
        "          synset=l.label()\n",
        "          word=l[0]\n",
        "          context_words.append(word)\n",
        "          synset_list.append(synset)\n",
        "        else:\n",
        "          synset=l.label().synset().name()\n",
        "          word=l.label().name()\n",
        "          context_words.append(word)\n",
        "          synset_list.append(synset)\n",
        "      else:\n",
        "          word=l\n",
        "          context_words.append(word)\n",
        "    sentence = ' '.join(context_words)\n",
        "    W = [w.lower() for w in nltk.word_tokenize(sentence)]\n",
        "    W = nltk.pos_tag(W)\n",
        "    W = [[lemmatizer.lemmatize(w[0],pos=POS_tags(w[1])),w[1]] for w in W]\n",
        "    #print(W)\n",
        "    for i,pair in enumerate(W):\n",
        "          target_word = pair[0]\n",
        "          total_words+=1\n",
        "          C=ContextBag(W,i,context_size)\n",
        "          C_list=[word[0] for word in C]\n",
        "          V_C=Word2VecTransformer(model).transform([C_list])\n",
        "          result=[]\n",
        "          for synset in wn.synsets(W[i][0],POS_tags(W[i][1])):\n",
        "            score=0\n",
        "            Sig=obtain_lemma(lemmatizer,synset.definition())\n",
        "            V_Sig=Word2VecTransformer(model).transform([Sig])\n",
        "            #print(np.linalg.norm(V_Sig), np.linalg.norm(V_C))\n",
        "            score=float(cosine_similarity(V_C,V_Sig).flatten())\n",
        "            result.append({\"synset\":synset.name(),\"score\":score,\"definition\":synset.definition()})\n",
        "          result=sorted(result,key=lambda k:k['score'],reverse=True)\n",
        "          #print(result)\n",
        "          if (len(result)>0):\n",
        "              if len(synset_list)>0:\n",
        "                true_labels.append(synset_list[i])\n",
        "                pred_labels.append('Synset_id: {} | Gloss : {}'.format(result[0][\"synset\"], result[0][\"definition\"]))\n",
        "              else:\n",
        "                pred_labels.append('Synset_id: {} | Gloss : {}'.format(result[0][\"synset\"], result[0][\"definition\"]))\n",
        "              #print(synset_list[i], result[0][\"synset\"])\n",
        "    done_sent+=1\n",
        "    if ((done_sent / data_len)*100 % 10) == 0:\n",
        "      later = time.time()\n",
        "      print('{} % Done | Time Elapsed : {} sec'.format(((done_sent / data_len)*100), int(later-now)))\n",
        "  if len(synset_list)>0:\n",
        "    return true_labels, pred_labels, total_words  \n",
        "  else:\n",
        "    return pred_labels, total_words "
      ],
      "execution_count": null,
      "outputs": []
    },
    {
      "cell_type": "markdown",
      "metadata": {
        "id": "0ieKVugqLAZJ"
      },
      "source": [
        "# Testing"
      ]
    },
    {
      "cell_type": "code",
      "metadata": {
        "id": "HGwQoZT_kSJ6"
      },
      "source": [
        "test_dataset = semcor.tagged_sents(tag='sem')[:10]"
      ],
      "execution_count": null,
      "outputs": []
    },
    {
      "cell_type": "code",
      "metadata": {
        "colab": {
          "base_uri": "https://localhost:8080/"
        },
        "id": "DQfmkHcU44qi",
        "outputId": "971e0d6c-fe3d-4c2a-c4a6-28f94a7d861f"
      },
      "source": [
        "true_labels, pred_labels, total_words = overlap_model(model_w2v,test_dataset,n_best=1)"
      ],
      "execution_count": null,
      "outputs": [
        {
          "output_type": "stream",
          "name": "stdout",
          "text": [
            "10.0 % Done | Time Elapsed : 9 sec\n",
            "20.0 % Done | Time Elapsed : 30 sec\n",
            "30.0 % Done | Time Elapsed : 45 sec\n",
            "40.0 % Done | Time Elapsed : 59 sec\n",
            "50.0 % Done | Time Elapsed : 74 sec\n",
            "60.0 % Done | Time Elapsed : 86 sec\n",
            "70.0 % Done | Time Elapsed : 114 sec\n",
            "80.0 % Done | Time Elapsed : 126 sec\n",
            "90.0 % Done | Time Elapsed : 135 sec\n",
            "100.0 % Done | Time Elapsed : 146 sec\n"
          ]
        }
      ]
    },
    {
      "cell_type": "markdown",
      "metadata": {
        "id": "djbilkuanZ_D"
      },
      "source": [
        ""
      ]
    },
    {
      "cell_type": "markdown",
      "metadata": {
        "id": "7cz7Bc2HR1wq"
      },
      "source": [
        "# Results"
      ]
    },
    {
      "cell_type": "code",
      "metadata": {
        "colab": {
          "base_uri": "https://localhost:8080/"
        },
        "id": "DfWxsOfHR1w0",
        "outputId": "771aa7c5-0901-45ed-80e7-13ba0c0fb183"
      },
      "source": [
        "# Total words tested\n",
        "total_words"
      ],
      "execution_count": null,
      "outputs": [
        {
          "output_type": "execute_result",
          "data": {
            "text/plain": [
              "2336"
            ]
          },
          "metadata": {},
          "execution_count": 107
        }
      ]
    },
    {
      "cell_type": "code",
      "metadata": {
        "colab": {
          "base_uri": "https://localhost:8080/"
        },
        "id": "zU_DMAqVR1w0",
        "outputId": "a386bfe5-662e-4878-fc69-f008a725ebae"
      },
      "source": [
        "# Accuracy/Precision achieved\n",
        "acc = accuracy_score(np.array(true_labels),np.array(pred_labels))\n",
        "acc"
      ],
      "execution_count": null,
      "outputs": [
        {
          "output_type": "execute_result",
          "data": {
            "text/plain": [
              "0.35625"
            ]
          },
          "metadata": {},
          "execution_count": 115
        }
      ]
    },
    {
      "cell_type": "code",
      "metadata": {
        "id": "5Lo35aWLR1w0"
      },
      "source": [
        "# Correct labels\n",
        "correct = acc*(len(true_labels))"
      ],
      "execution_count": null,
      "outputs": []
    },
    {
      "cell_type": "code",
      "metadata": {
        "colab": {
          "base_uri": "https://localhost:8080/"
        },
        "id": "Oqrg57TrR1w1",
        "outputId": "301d124e-c184-4c6a-e998-54951eed4584"
      },
      "source": [
        "# Labels returned\n",
        "len(pred_labels)"
      ],
      "execution_count": null,
      "outputs": [
        {
          "output_type": "execute_result",
          "data": {
            "text/plain": [
              "2080"
            ]
          },
          "metadata": {},
          "execution_count": 114
        }
      ]
    },
    {
      "cell_type": "code",
      "metadata": {
        "id": "qmMdBcWER1w1"
      },
      "source": [
        "# Recall score\n",
        "rec_sc = correct/total_words"
      ],
      "execution_count": null,
      "outputs": []
    },
    {
      "cell_type": "code",
      "metadata": {
        "colab": {
          "base_uri": "https://localhost:8080/"
        },
        "id": "OFWiDA3JR1w1",
        "outputId": "e93ddf9f-491e-468f-9c79-fd110c235544"
      },
      "source": [
        "# f1 score\n",
        "2*rec_sc*acc / (rec_sc + acc)"
      ],
      "execution_count": null,
      "outputs": [
        {
          "output_type": "execute_result",
          "data": {
            "text/plain": [
              "0.3355978260869565"
            ]
          },
          "metadata": {},
          "execution_count": 120
        }
      ]
    },
    {
      "cell_type": "code",
      "metadata": {
        "colab": {
          "base_uri": "https://localhost:8080/"
        },
        "id": "qQ4UBsTIR1w1",
        "outputId": "116701da-66a5-4ca4-fdf2-b19bd73ba7e6"
      },
      "source": [
        "# Precision recall per sense\n",
        "print(classification_report(np.array(true_labels),np.array(pred_labels),digits=4))"
      ],
      "execution_count": null,
      "outputs": [
        {
          "output_type": "stream",
          "name": "stdout",
          "text": [
            "                            precision    recall  f1-score   support\n",
            "\n",
            "          abnormality.n.04     0.0000    0.0000    0.0000         2\n",
            "              abridge.v.01     0.0000    0.0000    0.0000         0\n",
            "               accept.v.02     0.0000    0.0000    0.0000         0\n",
            "             accepted.s.00     0.0000    0.0000    0.0000         1\n",
            "              achieve.v.01     1.0000    1.0000    1.0000         1\n",
            "                  act.n.01     0.0000    0.0000    0.0000         0\n",
            "                  act.v.01     0.0000    0.0000    0.0000         1\n",
            "       administration.n.01     0.0000    0.0000    0.0000         1\n",
            "       administration.n.02     0.0000    0.0000    0.0000         0\n",
            "                adopt.v.01     0.0000    0.0000    0.0000         1\n",
            "               agency.n.01     0.0000    0.0000    0.0000         1\n",
            "               allege.v.01     0.0000    0.0000    0.0000         4\n",
            "            ambiguous.a.02     0.0000    0.0000    0.0000         1\n",
            "              analyze.v.01     0.0000    0.0000    0.0000         1\n",
            "              antique.s.02     0.0000    0.0000    0.0000         1\n",
            "              appoint.v.02     0.0000    0.0000    0.0000         1\n",
            "              atlanta.n.01     1.0000    1.0000    1.0000         2\n",
            "                   be.v.01     0.0000    0.0000    0.0000         3\n",
            "                   be.v.03     0.0000    0.0000    0.0000         0\n",
            "                   be.v.08     0.0000    0.0000    0.0000         0\n",
            "              believe.v.01     0.0000    0.0000    0.0000         0\n",
            "              believe.v.03     0.0000    0.0000    0.0000         1\n",
            "                 best.a.01     0.0000    0.0000    0.0000         1\n",
            "               better.v.02     0.0000    0.0000    0.0000         0\n",
            "               better.v.03     0.0000    0.0000    0.0000         1\n",
            "              broadly.r.01     0.0000    0.0000    0.0000         0\n",
            "         by_and_large.r.01     0.0000    0.0000    0.0000         1\n",
            "               charge.n.02     0.0000    0.0000    0.0000         0\n",
            "                 city.n.01     0.5000    1.0000    0.6667         1\n",
            "                 city.n.02     1.0000    0.5000    0.6667         2\n",
            "             clerical.a.01     0.0000    0.0000    0.0000         1\n",
            "             clerical.a.02     0.0000    0.0000    0.0000         0\n",
            "              combine.v.04     0.0000    0.0000    0.0000         0\n",
            "             combined.s.00     0.0000    0.0000    0.0000         1\n",
            "              comment.v.01     0.0000    0.0000    0.0000         1\n",
            "            condition.n.07     0.0000    0.0000    0.0000         0\n",
            "              conduct.v.01     0.0000    0.0000    0.0000         1\n",
            "          consequence.n.01     0.0000    0.0000    0.0000         1\n",
            "             consider.v.04     0.0000    0.0000    0.0000         1\n",
            "                 cost.n.01     0.0000    0.0000    0.0000         1\n",
            "            deficient.s.01     0.0000    0.0000    0.0000         1\n",
            "             demeanor.n.01     0.0000    0.0000    0.0000         0\n",
            "           efficiency.n.02     1.0000    1.0000    1.0000         1\n",
            "             election.n.01     1.0000    0.7500    0.8571         4\n",
            "             election.n.02     0.0000    0.0000    0.0000         0\n",
            "                  end.n.02     0.0000    0.0000    0.0000         1\n",
            "            equivocal.a.01     0.0000    0.0000    0.0000         0\n",
            "             evidence.n.01     0.0000    0.0000    0.0000         1\n",
            "             evidence.n.03     0.0000    0.0000    0.0000         0\n",
            "          experienced.a.01     1.0000    1.0000    1.0000         1\n",
            "            far-flung.s.01     0.0000    0.0000    0.0000         0\n",
            "                  far.r.02     0.0000    0.0000    0.0000         1\n",
            "                  far.r.03     0.0000    0.0000    0.0000         0\n",
            "                force.n.04     0.0000    0.0000    0.0000         2\n",
            "           frequently.r.01     0.0000    0.0000    0.0000         1\n",
            "             function.n.03     0.0000    0.0000    0.0000         0\n",
            "                  get.v.03     0.0000    0.0000    0.0000         1\n",
            "                 goal.n.01     0.5000    1.0000    0.6667         1\n",
            "                 good.a.01     0.0000    0.0000    0.0000         0\n",
            "           government.n.01     0.0000    0.0000    0.0000         1\n",
            "           government.n.02     0.0000    0.0000    0.0000         0\n",
            "           grand_jury.n.01     1.0000    1.0000    1.0000         1\n",
            "                great.s.00     0.0000    0.0000    0.0000         1\n",
            "                great.s.01     0.0000    0.0000    0.0000         0\n",
            "                group.n.01     1.0000    0.6667    0.8000         3\n",
            "                group.n.02     0.0000    0.0000    0.0000         0\n",
            "              handful.n.01     1.0000    1.0000    1.0000         1\n",
            "          hard-fought.s.01     1.0000    1.0000    1.0000         1\n",
            "              however.r.01     0.0000    0.0000    0.0000         1\n",
            "              however.r.02     0.0000    0.0000    0.0000         0\n",
            "           inadequate.a.01     1.0000    1.0000    1.0000         1\n",
            "             interest.n.01     0.0000    0.0000    0.0000         1\n",
            "             interest.n.04     0.0000    0.0000    0.0000         0\n",
            "             interest.n.05     0.0000    0.0000    0.0000         0\n",
            "        investigation.n.02     0.0000    0.0000    0.0000         0\n",
            "         irregularity.n.02     0.0000    0.0000    0.0000         0\n",
            "                 jury.n.01     1.0000    1.0000    1.0000         6\n",
            "                 late.s.03     1.0000    1.0000    1.0000         1\n",
            "                  law.n.02     1.0000    0.5000    0.6667         2\n",
            "                  law.n.06     0.0000    0.0000    0.0000         0\n",
            "           legislator.n.01     1.0000    1.0000    1.0000         1\n",
            "         localization.n.01     0.0000    0.0000    0.0000         0\n",
            "             location.n.01     0.0000    0.0000    0.0000         4\n",
            "               manner.n.01     1.0000    1.0000    1.0000         1\n",
            "              measure.n.01     0.0000    0.0000    0.0000         1\n",
            "               merely.r.01     0.0000    0.0000    0.0000         1\n",
            "                 miss.v.06     0.0000    0.0000    0.0000         0\n",
            "              mission.n.03     0.0000    0.0000    0.0000         1\n",
            "       monetary_value.n.01     0.0000    0.0000    0.0000         0\n",
            "               number.n.01     0.0000    0.0000    0.0000         1\n",
            "               number.n.02     0.0000    0.0000    0.0000         1\n",
            "                often.r.03     0.0000    0.0000    0.0000         0\n",
            "                 only.r.05     0.0000    0.0000    0.0000         0\n",
            "                order.v.01     0.0000    0.0000    0.0000         0\n",
            "                other.a.01     1.0000    1.0000    1.0000         1\n",
            "              outmode.v.01     0.0000    0.0000    0.0000         0\n",
            "              overall.s.02     1.0000    1.0000    1.0000         1\n",
            "                  own.v.01     0.0000    0.0000    0.0000         1\n",
            "               person.n.01     0.0000    0.0000    0.0000         2\n",
            "               person.n.03     0.0000    0.0000    0.0000         0\n",
            " personnel_department.n.01     0.0000    0.0000    0.0000         0\n",
            "         phone_number.n.01     0.0000    0.0000    0.0000         0\n",
            "            placement.n.03     0.0000    0.0000    0.0000         0\n",
            "               policy.n.01     1.0000    1.0000    1.0000         1\n",
            "            potential.a.01     1.0000    1.0000    1.0000         1\n",
            "             practice.n.01     0.0000    0.0000    0.0000         1\n",
            "             practice.n.05     0.0000    0.0000    0.0000         0\n",
            "               praise.n.01     0.0000    0.0000    0.0000         1\n",
            "               praise.n.02     0.0000    0.0000    0.0000         0\n",
            "          presentment.n.01     1.0000    1.0000    1.0000         1\n",
            "              primary.n.01     1.0000    0.5000    0.6667         2\n",
            "              primary.s.02     0.0000    0.0000    0.0000         0\n",
            "                probe.n.01     0.0000    0.0000    0.0000         1\n",
            "              problem.n.01     0.0000    0.0000    0.0000         0\n",
            "              problem.n.02     0.0000    0.0000    0.0000         1\n",
            "              produce.v.03     0.0000    0.0000    0.0000         0\n",
            "              produce.v.04     0.0000    0.0000    0.0000         1\n",
            "         proportional.s.01     0.0000    0.0000    0.0000         0\n",
            "purchasing_department.n.01     1.0000    1.0000    1.0000         1\n",
            "                 read.v.02     0.0000    0.0000    0.0000         0\n",
            "              receive.v.02     0.0000    0.0000    0.0000         0\n",
            "            recommend.v.01     1.0000    1.0000    1.0000         1\n",
            "              rectify.v.04     0.0000    0.0000    0.0000         1\n",
            "              redress.n.02     0.0000    0.0000    0.0000         0\n",
            "               reduce.v.01     0.0000    0.0000    0.0000         1\n",
            "         registration.n.01     0.0000    0.0000    0.0000         1\n",
            "         registration.n.03     0.0000    0.0000    0.0000         0\n",
            "             relative.a.01     0.0000    0.0000    0.0000         1\n",
            "               remark.n.01     0.0000    0.0000    0.0000         0\n",
            "               remove.v.01     0.0000    0.0000    0.0000         0\n",
            "               report.n.03     0.0000    0.0000    0.0000         2\n",
            "           reputation.n.03     0.0000    0.0000    0.0000         0\n",
            "               result.v.01     0.0000    0.0000    0.0000         0\n",
            "               retool.v.01     0.0000    0.0000    0.0000         0\n",
            "               revise.v.01     0.0000    0.0000    0.0000         1\n",
            "                 rule.v.04     0.0000    0.0000    0.0000         1\n",
            "                 sake.n.01     0.0000    0.0000    0.0000         1\n",
            "                  say.v.09     0.0000    0.0000    0.0000         0\n",
            "                 size.n.01     0.0000    0.0000    0.0000         1\n",
            "                 size.n.02     0.0000    0.0000    0.0000         0\n",
            "                state.v.01     0.0000    0.0000    0.0000         3\n",
            "                 step.n.03     0.0000    0.0000    0.0000         0\n",
            "                study.n.10     0.0000    0.0000    0.0000         0\n",
            "                 such.s.00     0.0000    0.0000    0.0000         1\n",
            "                 such.s.01     0.0000    0.0000    0.0000         0\n",
            "                 take.v.01     0.0000    0.0000    0.0000         1\n",
            "                 take.v.20     0.0000    0.0000    0.0000         0\n",
            "                 take.v.35     0.0000    0.0000    0.0000         0\n",
            "                 term.n.01     0.0000    0.0000    0.0000         0\n",
            "                 term.n.02     0.0000    0.0000    0.0000         2\n",
            "               thanks.n.01     1.0000    1.0000    1.0000         1\n",
            "                think.v.01     0.0000    0.0000    0.0000         0\n",
            "                  two.n.01     0.0000    0.0000    0.0000         0\n",
            "                  two.s.01     0.0000    0.0000    0.0000         1\n",
            "                voter.n.01     1.0000    1.0000    1.0000         1\n",
            "                 well.r.01     1.0000    1.0000    1.0000         1\n",
            "           widespread.s.01     0.0000    0.0000    0.0000         1\n",
            "                  win.v.01     0.0000    0.0000    0.0000         1\n",
            "             winnings.n.01     0.0000    0.0000    0.0000         0\n",
            "\n",
            "                  accuracy                         0.3140       121\n",
            "                 macro avg     0.1761    0.1693    0.1698       121\n",
            "              weighted avg     0.3471    0.3140    0.3237       121\n",
            "\n"
          ]
        },
        {
          "output_type": "stream",
          "name": "stderr",
          "text": [
            "/usr/local/lib/python3.7/dist-packages/sklearn/metrics/_classification.py:1272: UndefinedMetricWarning: Precision and F-score are ill-defined and being set to 0.0 in labels with no predicted samples. Use `zero_division` parameter to control this behavior.\n",
            "  _warn_prf(average, modifier, msg_start, len(result))\n",
            "/usr/local/lib/python3.7/dist-packages/sklearn/metrics/_classification.py:1272: UndefinedMetricWarning: Recall and F-score are ill-defined and being set to 0.0 in labels with no true samples. Use `zero_division` parameter to control this behavior.\n",
            "  _warn_prf(average, modifier, msg_start, len(result))\n"
          ]
        }
      ]
    },
    {
      "cell_type": "markdown",
      "metadata": {
        "id": "0n1Mw0duyTLo"
      },
      "source": [
        "# Testing on given sents"
      ]
    },
    {
      "cell_type": "code",
      "metadata": {
        "id": "KUz9rLUynghM"
      },
      "source": [
        "test_sents = []\n",
        "test_sents.append('I went to the bank to withdraw some money.')\n",
        "test_sents.append('I went to the bank to have a bath in the river.')\n",
        "test_sents.append('The school is seeing return of students')\n",
        "test_sents.append('The school of fish is swimming past the island.')"
      ],
      "execution_count": null,
      "outputs": []
    },
    {
      "cell_type": "code",
      "metadata": {
        "colab": {
          "base_uri": "https://localhost:8080/"
        },
        "id": "ri7WS9crJo6K",
        "outputId": "65e010ce-b398-44e2-dbb3-3744dd4dfd16"
      },
      "source": [
        "nltk.download('punkt')\n",
        "from nltk.tokenize import word_tokenize"
      ],
      "execution_count": null,
      "outputs": [
        {
          "output_type": "stream",
          "name": "stdout",
          "text": [
            "[nltk_data] Downloading package punkt to /root/nltk_data...\n",
            "[nltk_data]   Package punkt is already up-to-date!\n"
          ]
        }
      ]
    },
    {
      "cell_type": "code",
      "metadata": {
        "colab": {
          "base_uri": "https://localhost:8080/"
        },
        "id": "u1AasksdoT2l",
        "outputId": "aef266d3-821f-4aeb-8267-8ea48a124efc"
      },
      "source": [
        "tokenized_sents = [word_tokenize(i) for i in test_sents]\n",
        "\n",
        "for sent in tokenized_sents:\n",
        "  print(' '.join(sent))\n",
        "  pred_labels, total_words = overlap_model(model_w2v,[sent],n_best=1)  \n",
        "  print(*pred_labels,sep='\\n')\n",
        "  print()"
      ],
      "execution_count": null,
      "outputs": [
        {
          "output_type": "stream",
          "name": "stdout",
          "text": [
            "I went to the bank to withdraw some money .\n",
            "100.0 % Done | Time Elapsed : 15 sec\n",
            "Synset_id: one.s.01 | Gloss : used of a single unit or thing; not two or more\n",
            "Synset_id: travel.v.01 | Gloss : change location; move, travel, or proceed, also metaphorically\n",
            "Synset_id: depository_financial_institution.n.01 | Gloss : a financial institution that accepts deposits and channels the money into lending activities\n",
            "Synset_id: swallow.v.05 | Gloss : take back what one has said\n",
            "Synset_id: money.n.03 | Gloss : the official currency issued by a government or national bank\n",
            "\n",
            "I went to the bank to have a bath in the river .\n",
            "100.0 % Done | Time Elapsed : 28 sec\n",
            "Synset_id: one.s.01 | Gloss : used of a single unit or thing; not two or more\n",
            "Synset_id: rifle.v.02 | Gloss : go through in search of something; search through someone's belongings in an unauthorized way\n",
            "Synset_id: bank.n.01 | Gloss : sloping land (especially the slope beside a body of water)\n",
            "Synset_id: receive.v.01 | Gloss : get something; come into possession of\n",
            "Synset_id: a.n.07 | Gloss : the blood group whose red cells carry the A antigen\n",
            "Synset_id: bath.n.05 | Gloss : a town in southwestern England on the River Avon; famous for its hot springs and Roman remains\n",
            "Synset_id: inch.n.01 | Gloss : a unit of length equal to one twelfth of a foot\n",
            "Synset_id: river.n.01 | Gloss : a large natural stream of water (larger than a creek)\n",
            "\n",
            "The school is seeing return of students\n",
            "100.0 % Done | Time Elapsed : 14 sec\n",
            "Synset_id: school.n.06 | Gloss : an educational institution's faculty and students\n",
            "Synset_id: be.v.05 | Gloss : happen, occur, take place; this was during the visit to my parents' house\"\n",
            "Synset_id: see.v.12 | Gloss : go to see for a social visit\n",
            "Synset_id: restitution.n.03 | Gloss : getting something back again\n",
            "Synset_id: scholar.n.01 | Gloss : a learned person (especially in the humanities); someone who by long study has gained mastery in one or more disciplines\n",
            "\n",
            "The school of fish is swimming past the island .\n",
            "100.0 % Done | Time Elapsed : 11 sec\n",
            "Synset_id: school.n.07 | Gloss : a large group of fish\n",
            "Synset_id: fish.n.01 | Gloss : any of various mostly cold-blooded aquatic vertebrates usually having scales and breathing through gills\n",
            "Synset_id: be.v.05 | Gloss : happen, occur, take place; this was during the visit to my parents' house\"\n",
            "Synset_id: swim.v.01 | Gloss : travel through water\n",
            "Synset_id: past.n.02 | Gloss : a earlier period in someone's life (especially one that they have reason to keep secret)\n",
            "Synset_id: island.n.01 | Gloss : a land mass (smaller than a continent) that is surrounded by water\n",
            "\n"
          ]
        }
      ]
    },
    {
      "cell_type": "markdown",
      "metadata": {
        "id": "gVUnp5CZGkrB"
      },
      "source": [
        "# User input"
      ]
    },
    {
      "cell_type": "code",
      "metadata": {
        "colab": {
          "base_uri": "https://localhost:8080/"
        },
        "id": "wbJ8QfJ9Qvj-",
        "outputId": "ee0daf50-7e1a-436b-c5a7-4644078d334f"
      },
      "source": [
        "nltk.download('punkt')\n",
        "from nltk.tokenize import word_tokenize"
      ],
      "execution_count": null,
      "outputs": [
        {
          "output_type": "stream",
          "name": "stdout",
          "text": [
            "[nltk_data] Downloading package punkt to /root/nltk_data...\n",
            "[nltk_data]   Package punkt is already up-to-date!\n"
          ]
        }
      ]
    },
    {
      "cell_type": "code",
      "metadata": {
        "colab": {
          "base_uri": "https://localhost:8080/"
        },
        "id": "KfhAUY3TGl2h",
        "outputId": "aede8029-9ec7-41fe-ed51-068c84e26ba7"
      },
      "source": [
        "given_sent = [str(input())]"
      ],
      "execution_count": null,
      "outputs": [
        {
          "name": "stdout",
          "output_type": "stream",
          "text": [
            "I went to a bank which is situated on the river bank to withdraw money\n"
          ]
        }
      ]
    },
    {
      "cell_type": "code",
      "metadata": {
        "colab": {
          "base_uri": "https://localhost:8080/"
        },
        "id": "2bEEzh0hGsaN",
        "outputId": "38b90f4e-187b-4679-f7b5-13ad734cc532"
      },
      "source": [
        "tokenized_sents = [word_tokenize(i) for i in given_sent]\n",
        "\n",
        "for sent in tokenized_sents:\n",
        "  print(' '.join(sent))\n",
        "  pred_labels, total_words = overlap_model(model_w2v,[sent],n_best=1)\n",
        "  print(*pred_labels,sep='\\n')"
      ],
      "execution_count": null,
      "outputs": [
        {
          "output_type": "stream",
          "name": "stdout",
          "text": [
            "I went to a bank which is situated on the river bank to withdraw money\n",
            "100.0 % Done | Time Elapsed : 28 sec\n",
            "Synset_id: one.s.01 | Gloss : used of a single unit or thing; not two or more\n",
            "Synset_id: travel.v.01 | Gloss : change location; move, travel, or proceed, also metaphorically\n",
            "Synset_id: ampere.n.02 | Gloss : the basic unit of electric current adopted under the Systeme International d'Unites\n",
            "Synset_id: depository_financial_institution.n.01 | Gloss : a financial institution that accepts deposits and channels the money into lending activities\n",
            "Synset_id: be.v.05 | Gloss : happen, occur, take place; this was during the visit to my parents' house\"\n",
            "Synset_id: situate.v.02 | Gloss : put (something somewhere) firmly\n",
            "Synset_id: river.n.01 | Gloss : a large natural stream of water (larger than a creek)\n",
            "Synset_id: depository_financial_institution.n.01 | Gloss : a financial institution that accepts deposits and channels the money into lending activities\n",
            "Synset_id: swallow.v.05 | Gloss : take back what one has said\n",
            "Synset_id: money.n.03 | Gloss : the official currency issued by a government or national bank\n"
          ]
        }
      ]
    },
    {
      "cell_type": "code",
      "metadata": {
        "id": "yigKqjITbPWU"
      },
      "source": [
        ""
      ],
      "execution_count": null,
      "outputs": []
    }
  ]
}